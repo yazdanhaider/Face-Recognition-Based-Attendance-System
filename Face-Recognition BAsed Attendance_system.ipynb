{
 "cells": [
  {
   "cell_type": "code",
   "execution_count": 1,
   "id": "5442680a",
   "metadata": {},
   "outputs": [
    {
     "name": "stdout",
     "output_type": "stream",
     "text": [
      "Requirement already satisfied: OpenCV-python in ./opt/anaconda3/lib/python3.9/site-packages (4.7.0.68)\n",
      "Requirement already satisfied: numpy>=1.17.0 in ./opt/anaconda3/lib/python3.9/site-packages (from OpenCV-python) (1.21.5)\n",
      "Note: you may need to restart the kernel to use updated packages.\n"
     ]
    }
   ],
   "source": [
    "pip install OpenCV-python"
   ]
  },
  {
   "cell_type": "code",
   "execution_count": 2,
   "id": "37195591",
   "metadata": {},
   "outputs": [
    {
     "name": "stdout",
     "output_type": "stream",
     "text": [
      "Requirement already satisfied: numpy in ./opt/anaconda3/lib/python3.9/site-packages (1.21.5)\n",
      "Note: you may need to restart the kernel to use updated packages.\n"
     ]
    }
   ],
   "source": [
    "pip install numpy"
   ]
  },
  {
   "cell_type": "code",
   "execution_count": 3,
   "id": "c3d33c87",
   "metadata": {},
   "outputs": [
    {
     "name": "stdout",
     "output_type": "stream",
     "text": [
      "Requirement already satisfied: pandas in ./opt/anaconda3/lib/python3.9/site-packages (1.4.4)\n",
      "Requirement already satisfied: python-dateutil>=2.8.1 in ./opt/anaconda3/lib/python3.9/site-packages (from pandas) (2.8.2)\n",
      "Requirement already satisfied: pytz>=2020.1 in ./opt/anaconda3/lib/python3.9/site-packages (from pandas) (2022.1)\n",
      "Requirement already satisfied: numpy>=1.18.5 in ./opt/anaconda3/lib/python3.9/site-packages (from pandas) (1.21.5)\n",
      "Requirement already satisfied: six>=1.5 in ./opt/anaconda3/lib/python3.9/site-packages (from python-dateutil>=2.8.1->pandas) (1.16.0)\n",
      "Note: you may need to restart the kernel to use updated packages.\n"
     ]
    }
   ],
   "source": [
    "pip install pandas"
   ]
  },
  {
   "cell_type": "code",
   "execution_count": 4,
   "id": "7236d19f",
   "metadata": {},
   "outputs": [
    {
     "name": "stdout",
     "output_type": "stream",
     "text": [
      "\u001b[31mERROR: Could not find a version that satisfies the requirement os (from versions: none)\u001b[0m\u001b[31m\n",
      "\u001b[0m\u001b[31mERROR: No matching distribution found for os\u001b[0m\u001b[31m\n",
      "\u001b[0mNote: you may need to restart the kernel to use updated packages.\n"
     ]
    }
   ],
   "source": [
    "pip install os"
   ]
  },
  {
   "cell_type": "code",
   "execution_count": 5,
   "id": "e71c6fab",
   "metadata": {},
   "outputs": [
    {
     "name": "stdout",
     "output_type": "stream",
     "text": [
      "\u001b[31mERROR: Could not find a version that satisfies the requirement tkinter (from versions: none)\u001b[0m\u001b[31m\n",
      "\u001b[0m\u001b[31mERROR: No matching distribution found for tkinter\u001b[0m\u001b[31m\n",
      "\u001b[0mNote: you may need to restart the kernel to use updated packages.\n"
     ]
    }
   ],
   "source": [
    "pip install tkinter"
   ]
  },
  {
   "cell_type": "code",
   "execution_count": 6,
   "id": "e744eb85",
   "metadata": {},
   "outputs": [],
   "source": [
    "import tkinter\n",
    "from tkinter import *\n",
    "from tkinter import messagebox as mess\n",
    "from tkinter import ttk\n",
    "import tkinter.simpledialog as tsd\n",
    "import os\n",
    "import cv2\n",
    "import csv\n",
    "import numpy as np\n",
    "from PIL import Image\n",
    "import pandas as pd\n",
    "import datetime\n",
    "import time"
   ]
  },
  {
   "cell_type": "code",
   "execution_count": 7,
   "id": "2f6096c9",
   "metadata": {},
   "outputs": [],
   "source": [
    "#AskforQUIT\n",
    "def on_closing():\n",
    "    if mess.askyesno(\"Quit\", \"You are exiting window.Do you want to quit?\"):\n",
    "        window.destroy()"
   ]
  },
  {
   "cell_type": "code",
   "execution_count": 8,
   "id": "45eed0d4",
   "metadata": {},
   "outputs": [],
   "source": [
    "#contact\n",
    "def contact():\n",
    "    mess._show(title=\"Contact Me\",message=\"If you find anything weird or you need any help contact me on 'ayush.ranjan2021@vitbhopal.ac.in'\")"
   ]
  },
  {
   "cell_type": "code",
   "execution_count": 9,
   "id": "a6371787",
   "metadata": {},
   "outputs": [],
   "source": [
    "#about\n",
    "def about():\n",
    "    mess._show(title=\"About\",message=\"This is Facial Recognition Based Attendance System\")"
   ]
  },
  {
   "cell_type": "code",
   "execution_count": 10,
   "id": "831e9594",
   "metadata": {},
   "outputs": [],
   "source": [
    "#clearbutton\n",
    "def clear():\n",
    "    txt.delete(0, 'end')\n",
    "    txt2.delete(0, 'end')\n",
    "    res = \"1)Take Images  ===> 2)Save Profile\"\n",
    "    message1.configure(text=res)"
   ]
  },
  {
   "cell_type": "code",
   "execution_count": 11,
   "id": "f71af687",
   "metadata": {},
   "outputs": [],
   "source": [
    "#Check for correct Path\n",
    "def assure_path_exists(path):\n",
    "    dir = os.path.dirname(path)\n",
    "    if not os.path.exists(dir):\n",
    "        os.makedirs(dir)"
   ]
  },
  {
   "cell_type": "code",
   "execution_count": 12,
   "id": "7c82eb63",
   "metadata": {},
   "outputs": [],
   "source": [
    "#check for haarcascade file\n",
    "def check_haarcascadefile():\n",
    "    exists = os.path.isfile(\"haarcascade_frontalface_default.xml\")\n",
    "    if exists:\n",
    "        pass\n",
    "    else:\n",
    "        mess._show(title='fechar file missing', message='some file is missing.Please contact me for help')\n",
    "        window.destroy()"
   ]
  },
  {
   "cell_type": "code",
   "execution_count": 13,
   "id": "a4d1c3e0",
   "metadata": {},
   "outputs": [],
   "source": [
    "#check the password for change the password\n",
    "def save_pass():\n",
    "    assure_path_exists(\"Pass_Train/\")\n",
    "    exists1 = os.path.isfile(\"Pass_Train\\pass.txt\")\n",
    "    if exists1:\n",
    "        tf = open(\"Pass_Train\\pass.txt\", \"r\")\n",
    "        str = tf.read()\n",
    "    else:\n",
    "        master.destroy()\n",
    "        new_pas = tsd.askstring('Password not set', 'Please enter a new password below', show='*')\n",
    "        if new_pas == None:\n",
    "            mess._show(title='Null Password Entered', message='Password not set.Please try again!')\n",
    "        else:\n",
    "            tf = open(\"Pass_Train\\pass.txt\", \"w\")\n",
    "            tf.write(new_pas)\n",
    "            mess._show(title='Password Registered!', message='New password was registered successfully!')\n",
    "            return\n",
    "    op = (old.get())\n",
    "    newp= (new.get())\n",
    "    nnewp = (nnew.get())\n",
    "    if (op == str):\n",
    "        if(newp == nnewp):\n",
    "            txf = open(\"Pass_Train\\pass.txt\", \"w\")\n",
    "            txf.write(newp)\n",
    "        else:\n",
    "            mess._show(title='Error', message='Confirm new password again!!!')\n",
    "            return\n",
    "    else:\n",
    "        mess._show(title='Wrong Password', message='Please enter correct old password.')\n",
    "        return\n",
    "    mess._show(title='Password Changed', message='Password changed successfully!!')\n",
    "    master.destroy()\n"
   ]
  },
  {
   "cell_type": "code",
   "execution_count": 14,
   "id": "40abe48d",
   "metadata": {},
   "outputs": [],
   "source": [
    "#change password\n",
    "def change_pass():\n",
    "    global master\n",
    "    master = tkinter.Tk()\n",
    "    master.geometry(\"400x160\")\n",
    "    master.resizable(False,False)\n",
    "    master.title(\"Change Admin Password\")\n",
    "    master.configure(background=\"white\")\n",
    "    lbl4 = tkinter.Label(master,text='    Enter Old Password',bg='white',font=('times', 12, ' bold '))\n",
    "    lbl4.place(x=10,y=10)\n",
    "    global old\n",
    "    old=tkinter.Entry(master,width=25 ,fg=\"black\",relief='solid',font=('times', 12, ' bold '),show='*')\n",
    "    old.place(x=180,y=10)\n",
    "    lbl5 = tkinter.Label(master, text='   Enter New Password', bg='white', font=('times', 12, ' bold '))\n",
    "    lbl5.place(x=10, y=45)\n",
    "    global new\n",
    "    new = tkinter.Entry(master, width=25, fg=\"black\",relief='solid', font=('times', 12, ' bold '),show='*')\n",
    "    new.place(x=180, y=45)\n",
    "    lbl6 = tkinter.Label(master, text='Confirm New Password', bg='white', font=('times', 12, ' bold '))\n",
    "    lbl6.place(x=10, y=80)\n",
    "    global nnew\n",
    "    nnew = tkinter.Entry(master, width=25, fg=\"black\", relief='solid',font=('times', 12, ' bold '),show='*')\n",
    "    nnew.place(x=180, y=80)\n",
    "    cancel=tkinter.Button(master,text=\"Cancel\", command=master.destroy, fg=\"white\" , bg=\"#13059c\", height=1,width=25 , activebackground = \"white\" ,font=('times', 10, ' bold '))\n",
    "    cancel.place(x=200, y=120)\n",
    "    save1 = tkinter.Button(master, text=\"Save\", command=save_pass, fg=\"black\", bg=\"#00aeff\", height = 1,width=25, activebackground=\"white\", font=('times', 10, ' bold '))\n",
    "    save1.place(x=10, y=120)\n",
    "    master.mainloop()\n"
   ]
  },
  {
   "cell_type": "code",
   "execution_count": 15,
   "id": "6e3f9000",
   "metadata": {},
   "outputs": [],
   "source": [
    "#ask for password\n",
    "def psw():\n",
    "    assure_path_exists(\"Pass_Train/\")\n",
    "    exists1 = os.path.isfile(\"Pass_Train\\pass.txt\")\n",
    "    if exists1:\n",
    "        tf = open(\"Pass_Train\\pass.txt\", \"r\")\n",
    "        str_pass = tf.read()\n",
    "    else:\n",
    "        new_pas = tsd.askstring('Old Password not found', 'Please enter a new password below', show='*')\n",
    "        if new_pas == None:\n",
    "            mess._show(title='No Password Entered', message='Password not set!! Please try again')\n",
    "        else:\n",
    "            tf = open(\"Pass_Train\\pass.txt\", \"w\")\n",
    "            tf.write(new_pas)\n",
    "            mess._show(title='Password Registered', message='New password was registered successfully!!')\n",
    "            return\n",
    "    password = tsd.askstring('Password', 'Enter Password', show='*')\n",
    "    if (password == str_pass):\n",
    "        TrainImages()\n",
    "\n",
    "    elif (password == None):\n",
    "        pass\n",
    "    else:\n",
    "        mess._show(title='Wrong Password', message='You have entered wrong password')"
   ]
  },
  {
   "cell_type": "code",
   "execution_count": 16,
   "id": "2337c503",
   "metadata": {},
   "outputs": [],
   "source": [
    "def TakeImages():\n",
    "    check_haarcascadefile()\n",
    "    columns = ['SERIAL NO.', '', 'ID', '', 'NAME']\n",
    "    assure_path_exists(\"StudentDetails/\")\n",
    "    assure_path_exists(\"TrainingImage/\")\n",
    "    serial = 0\n",
    "    exists = os.path.isfile(\"StudentDetails\\StudentDetails.csv\")\n",
    "    if exists:\n",
    "        with open(\"StudentDetails\\StudentDetails.csv\", 'r') as csvFile1:\n",
    "            reader1 = csv.reader(csvFile1)\n",
    "            for l in reader1:\n",
    "                serial = serial + 1\n",
    "        serial = (serial // 2)\n",
    "        csvFile1.close()\n",
    "    else:\n",
    "        with open(\"StudentDetails\\StudentDetails.csv\", 'a+') as csvFile1:\n",
    "            writer = csv.writer(csvFile1)\n",
    "            writer.writerow(columns)\n",
    "            serial = 1\n",
    "        csvFile1.close()\n",
    "    Id = (txt.get())\n",
    "    name = (txt2.get())\n",
    "    if ((name.isalpha()) or (' ' in name)):\n",
    "        cam = cv2.VideoCapture(0)\n",
    "        harcascadePath = \"haarcascade_frontalface_default.xml\"\n",
    "        detector = cv2.CascadeClassifier(harcascadePath)\n",
    "        sampleNum = 0\n",
    "        while (True):\n",
    "            ret, img = cam.read()\n",
    "            gray = cv2.cvtColor(img, cv2.COLOR_BGR2GRAY)\n",
    "            faces = detector.detectMultiScale(gray, 1.05, 5)\n",
    "            for (x, y, w, h) in faces:\n",
    "                cv2.rectangle(img, (x, y), (x + w, y + h), (0, 255, 0), 2)\n",
    "                # incrementing sample number\n",
    "                sampleNum = sampleNum + 1\n",
    "                # saving the captured face in the dataset folder TrainingImage\n",
    "                cv2.imwrite(\"TrainingImage\\ \" + name + \".\" + str(serial) + \".\" + Id + '.' + str(sampleNum) + \".jpg\",\n",
    "                            gray[y:y + h, x:x + w])\n",
    "                # display the frame\n",
    "                cv2.imshow('Taking Images', img)\n",
    "            # wait for 100 miliseconds\n",
    "            if cv2.waitKey(100) & 0xFF == ord('q'):\n",
    "                break\n",
    "            # break if the sample number is morethan 100\n",
    "            elif sampleNum > 100:\n",
    "                break\n",
    "        cam.release()\n",
    "        cv2.destroyAllWindows()\n",
    "        res = \"Images Taken for ID : \" + Id\n",
    "        row = [serial, '', Id, '', name]\n",
    "        with open('StudentDetails\\StudentDetails.csv', 'a+') as csvFile:\n",
    "            writer = csv.writer(csvFile)\n",
    "            writer.writerow(row)\n",
    "        csvFile.close()\n",
    "        message1.configure(text=res)\n",
    "    else:\n",
    "        if (name.isalpha() == False):\n",
    "            res = \"Enter Correct name\"\n",
    "            message.configure(text=res)"
   ]
  },
  {
   "cell_type": "code",
   "execution_count": 17,
   "id": "bfa8b127",
   "metadata": {},
   "outputs": [],
   "source": [
    "def TrainImages():\n",
    "    check_haarcascadefile()\n",
    "    assure_path_exists(\"Pass_Train/\")\n",
    "    recognizer = cv2.face_LBPHFaceRecognizer.create()\n",
    "    harcascadePath = \"haarcascade_frontalface_default.xml\"\n",
    "    detector = cv2.CascadeClassifier(harcascadePath)\n",
    "    faces, ID = getImagesAndLabels(\"TrainingImage\")\n",
    "    try:\n",
    "        recognizer.train(faces, np.array(ID))\n",
    "    except:\n",
    "        mess._show(title='No Registrations', message='Please Register someone first!!!')\n",
    "        return\n",
    "    recognizer.save(\"Pass_Train\\Trainner.yml\")\n",
    "    res = \"Profile Saved Successfully\"\n",
    "    message1.configure(text=res)\n",
    "    message.configure(text='Total Registrations till now  : ' + str(ID[0]))\n"
   ]
  },
  {
   "cell_type": "code",
   "execution_count": 18,
   "id": "b1a586e3",
   "metadata": {},
   "outputs": [],
   "source": [
    "def getImagesAndLabels(path):\n",
    "    # get the path of all the files in the folder\n",
    "    imagePaths = [os.path.join(path, f) for f in os.listdir(path)]\n",
    "    # create empty face list\n",
    "    faces = []\n",
    "    # create empty ID list\n",
    "    Ids = []\n",
    "    # now looping through all the image paths and loading the Ids and the images\n",
    "    for imagePath in imagePaths:\n",
    "        # loading the image and converting it to gray scale\n",
    "        pilImage = Image.open(imagePath).convert('L')\n",
    "        # Now we are converting the PIL image into numpy array\n",
    "        imageNp = np.array(pilImage, 'uint8')\n",
    "        # getting the Id from the image\n",
    "        ID = int(os.path.split(imagePath)[-1].split(\".\")[1])\n",
    "        # extract the face from the training image sample\n",
    "        faces.append(imageNp)\n",
    "        Ids.append(ID)\n",
    "    return faces, Ids\n"
   ]
  },
  {
   "cell_type": "code",
   "execution_count": 19,
   "id": "7b8fbf47",
   "metadata": {},
   "outputs": [],
   "source": [
    "\n",
    "def TrackImages():\n",
    "    check_haarcascadefile()\n",
    "    assure_path_exists(\"Attendance/\")\n",
    "    assure_path_exists(\"StudentDetails/\")\n",
    "    for k in tb.get_children():\n",
    "        tb.delete(k)\n",
    "    msg = ''\n",
    "    i = 0\n",
    "    j = 0\n",
    "    recognizer =cv2.face.LBPHFaceRecognizer_create() \n",
    "    exists3 = os.path.isfile(\"Pass_Train\\Trainner.yml\")\n",
    "    if exists3:\n",
    "        recognizer.read(\"Pass_Train\\Trainner.yml\")\n",
    "    else:\n",
    "        mess._show(title='Data Missing', message='Please click on Save Profile to reset data!!')\n",
    "        return\n",
    "    harcascadePath = \"haarcascade_frontalface_default.xml\"\n",
    "    faceCascade = cv2.CascadeClassifier(harcascadePath);\n",
    "\n",
    "    cam = cv2.VideoCapture(0)\n",
    "    font = cv2.FONT_HERSHEY_SIMPLEX\n",
    "    col_names = ['Id', '', 'Name', '', 'Date', '', 'Time']\n",
    "    exists1 = os.path.isfile(\"StudentDetails\\StudentDetails.csv\")\n",
    "    if exists1:\n",
    "        df = pd.read_csv(\"StudentDetails\\StudentDetails.csv\")\n",
    "    else:\n",
    "        mess._show(title='Details Missing', message='Students details are missing, please check!')\n",
    "        cam.release()\n",
    "        cv2.destroyAllWindows()\n",
    "        window.destroy()\n",
    "    while True:\n",
    "        ret, im = cam.read()\n",
    "        gray = cv2.cvtColor(im, cv2.COLOR_BGR2GRAY)\n",
    "        faces = faceCascade.detectMultiScale(gray, 1.2, 5)\n",
    "        for (x, y, w, h) in faces:\n",
    "            cv2.rectangle(im, (x, y), (x + w, y + h), (255, 0, 0), 2)\n",
    "            serial, conf = recognizer.predict(gray[y:y + h, x:x + w])\n",
    "            if (conf < 50):\n",
    "                ts = time.time()\n",
    "                date = datetime.datetime.fromtimestamp(ts).strftime('%d-%m-%Y')\n",
    "                timeStamp = datetime.datetime.fromtimestamp(ts).strftime('%H:%M:%S')\n",
    "                aa = df.loc[df['SERIAL NO.'] == serial]['NAME'].values\n",
    "                ID = df.loc[df['SERIAL NO.'] == serial]['ID'].values\n",
    "                ID = str(ID)\n",
    "                ID = ID[1:-1]\n",
    "                bb = str(aa)\n",
    "                bb = bb[2:-2]\n",
    "                attendance = [str(ID), '', bb, '', str(date), '', str(timeStamp)]\n",
    "\n",
    "            else:\n",
    "                Id = 'Unknown'\n",
    "                bb = str(Id)\n",
    "            cv2.putText(im, str(bb), (x, y + h), font, 1, (0, 251, 255), 2)\n",
    "        cv2.imshow('Taking Attendance', im)\n",
    "        if (cv2.waitKey(1) == ord('q')):\n",
    "            break\n",
    "    ts = time.time()\n",
    "    date = datetime.datetime.fromtimestamp(ts).strftime('%d-%m-%Y')\n",
    "    exists = os.path.isfile(\"Attendance\\Attendance_\" + date + \".csv\")\n",
    "    if exists:\n",
    "        with open(\"Attendance\\Attendance_\" + date + \".csv\", 'a+') as csvFile1:\n",
    "            writer = csv.writer(csvFile1)\n",
    "            writer.writerow(attendance)\n",
    "        csvFile1.close()\n",
    "    else:\n",
    "        with open(\"Attendance\\Attendance_\" + date + \".csv\", 'a+') as csvFile1:\n",
    "            writer = csv.writer(csvFile1)\n",
    "            writer.writerow(col_names)\n",
    "            writer.writerow(attendance)\n",
    "        csvFile1.close()\n",
    "    with open(\"Attendance\\Attendance_\" + date + \".csv\", 'r') as csvFile1:\n",
    "        reader1 = csv.reader(csvFile1)\n",
    "        for lines in reader1:\n",
    "            i = i + 1\n",
    "            if (i > 1):\n",
    "                if (i % 2 != 0):\n",
    "                    iidd = str(lines[0]) + '   '\n",
    "                    tb.insert('', 0, text=iidd, values=(str(lines[2]), str(lines[4]), str(lines[6])))\n",
    "    csvFile1.close()\n",
    "    cam.release()\n",
    "    cv2.destroyAllWindows()\n"
   ]
  },
  {
   "cell_type": "code",
   "execution_count": 20,
   "id": "43d4b026",
   "metadata": {},
   "outputs": [],
   "source": [
    "#Front End===========================================================\n",
    "\n",
    "window = tkinter.Tk()\n",
    "window.title(\"Face Recognition Based Attendance System\")\n",
    "window.geometry(\"1280x720\")\n",
    "window.resizable(True,True)\n",
    "window.configure(background='#121212')\n"
   ]
  },
  {
   "cell_type": "code",
   "execution_count": 21,
   "id": "e2f3786e",
   "metadata": {},
   "outputs": [],
   "source": [
    "#Help menubar----------------------------------------------\n",
    "menubar=Menu(window)\n",
    "help=Menu(menubar,tearoff=0)\n",
    "help.add_command(label=\"Change Password!\",command=change_pass)\n",
    "help.add_command(label=\"Contact Us\",command=contact)\n",
    "help.add_separator()\n",
    "help.add_command(label=\"Exit\",command=on_closing)\n",
    "menubar.add_cascade(label=\"Help\",menu=help)"
   ]
  },
  {
   "cell_type": "code",
   "execution_count": 22,
   "id": "e438f878",
   "metadata": {},
   "outputs": [],
   "source": [
    "# add ABOUT label to menubar-------------------------------\n",
    "menubar.add_command(label=\"About\",command=about)\n"
   ]
  },
  {
   "cell_type": "code",
   "execution_count": 23,
   "id": "29d92928",
   "metadata": {},
   "outputs": [],
   "source": [
    "#This line will attach our menu to window\n",
    "window.config(menu=menubar)"
   ]
  },
  {
   "cell_type": "code",
   "execution_count": 24,
   "id": "a71269a6",
   "metadata": {},
   "outputs": [],
   "source": [
    "#main window------------------------------------------------\n",
    "message3 = tkinter.Label(window, text=\"Face Recognition Based Attendance System\" ,fg=\"white\",bg=\"#196b65\" ,width=60 ,height=1,font=('times', 29, ' bold '))\n",
    "message3.place(x=10, y=10,relwidth=1)"
   ]
  },
  {
   "cell_type": "code",
   "execution_count": 25,
   "id": "c9000749",
   "metadata": {},
   "outputs": [],
   "source": [
    "#frames-------------------------------------------------\n",
    "frame1 = tkinter.Frame(window, bg=\"white\")\n",
    "frame1.place(relx=0.11, rely=0.15, relwidth=0.39, relheight=0.80)\n",
    "\n",
    "frame2 = tkinter.Frame(window, bg=\"white\")\n",
    "frame2.place(relx=0.51, rely=0.15, relwidth=0.39, relheight=0.80)"
   ]
  },
  {
   "cell_type": "code",
   "execution_count": 26,
   "id": "d87aed54",
   "metadata": {},
   "outputs": [],
   "source": [
    "#frame_headder\n",
    "fr_head1 = tkinter.Label(frame1, text=\"Register New Student\", fg=\"white\",bg=\"#153d3a\" ,width=60 ,height=1 ,font=('times', 17, ' bold ') )\n",
    "fr_head1.place(x=0,y=0,relwidth=1)\n",
    "\n",
    "fr_head2 = tkinter.Label(frame2, text=\"Mark Student's Attendance\", fg=\"white\",bg=\"#153d3a\" ,width=60 ,height=1 ,font=('times', 17, ' bold ') )\n",
    "fr_head2.place(x=0,y=0,relwidth=1)"
   ]
  },
  {
   "cell_type": "code",
   "execution_count": 27,
   "id": "0a1e3640",
   "metadata": {},
   "outputs": [],
   "source": [
    "#registretion frame\n",
    "lbl = tkinter.Label(frame1, text=\"Enter Registration Number\",width=23  ,height=1  ,fg=\"black\"  ,bg=\"white\" ,font=('times', 17, ' bold ') )\n",
    "lbl.place(x=0, y=55)\n",
    "\n",
    "txt = tkinter.Entry(frame1,width=32 ,fg=\"black\",bg=\"#e1f2f2\",highlightcolor=\"#00aeff\",highlightthickness=3,font=('times', 15, ' bold '))\n",
    "txt.place(x=55, y=88,relwidth=0.75)\n",
    "\n",
    "lbl2 = tkinter.Label(frame1, text=\"Enter Name of Student\",width=20  ,fg=\"black\"  ,bg=\"white\" ,font=('times', 17, ' bold '))\n",
    "lbl2.place(x=0, y=140)\n",
    "\n",
    "txt2 = tkinter.Entry(frame1,width=32 ,fg=\"black\",bg=\"#e1f2f2\",highlightcolor=\"#00aeff\",highlightthickness=3,font=('times', 15, ' bold ')  )\n",
    "txt2.place(x=55, y=173,relwidth=0.75)\n",
    "\n",
    "message0=tkinter.Label(frame1,text=\"*Follow the given steps*\",bg=\"white\" ,fg=\"black\"  ,width=20 ,height=1,font=('times', 16, ' bold'))\n",
    "message0.place(x=7,y=275)\n",
    "\n",
    "message1 = tkinter.Label(frame1, text=\"Step 1: Take Images ----> Step 2: Save Profile\" ,bg=\"white\" ,fg=\"black\"  ,width=39 ,height=1, activebackground = \"yellow\" ,font=('times', 15, ' bold '))\n",
    "message1.place(x=7, y=300)\n",
    "\n",
    "message = tkinter.Label(frame1, text=\"\" ,bg=\"white\" ,fg=\"black\"  ,width=39,height=1, activebackground = \"yellow\" ,font=('times', 16, ' bold '))\n",
    "message.place(x=7, y=500)\n",
    "#Attendance frame\n",
    "lbl3 = tkinter.Label(frame2, text=\"Attendance Table\",width=32  ,fg=\"black\"  ,bg=\"white\"  ,height=1 ,font=('times', 17, ' bold '))\n",
    "lbl3.place(x=100, y=115)\n"
   ]
  },
  {
   "cell_type": "code",
   "execution_count": 28,
   "id": "990e1bc1",
   "metadata": {},
   "outputs": [],
   "source": [
    "#Attendance frame\n",
    "lbl3 = tkinter.Label(frame2, text=\"Attendance Table\",width=32  ,fg=\"black\"  ,bg=\"white\"  ,height=1 ,font=('times', 17, ' bold '))\n",
    "lbl3.place(x=100, y=115)"
   ]
  },
  {
   "cell_type": "code",
   "execution_count": 29,
   "id": "a87e11ef",
   "metadata": {},
   "outputs": [],
   "source": [
    "#Display total registration----------\n",
    "res=0\n",
    "exists = os.path.isfile(\"StudentDetails\\StudentDetails.csv\")\n",
    "if exists:\n",
    "    with open(\"StudentDetails\\StudentDetails.csv\", 'r') as csvFile1:\n",
    "        reader1 = csv.reader(csvFile1)\n",
    "        for l in reader1:\n",
    "            res = res + 1\n",
    "    res = (res // 2) - 1\n",
    "    csvFile1.close()\n",
    "else:\n",
    "    res = 0\n",
    "message.configure(text='Total Registrations : '+str(res))"
   ]
  },
  {
   "cell_type": "code",
   "execution_count": 30,
   "id": "6e070fea",
   "metadata": {},
   "outputs": [],
   "source": [
    "#BUTTONS----------------------------------------------\n",
    "\n",
    "clearButton = tkinter.Button(frame1, text=\"Clear\", command=clear, fg=\"White\", bg=\"#053745\", width=11, activebackground = \"white\", font=('times', 12, ' bold '))\n",
    "clearButton.place(x=55, y=230,relwidth=0.29)\n",
    "\n",
    "takeImg = tkinter.Button(frame1, text=\"Take Images\", command=TakeImages, fg=\"White\", bg=\"#053745\", width=34, height=1, activebackground = \"white\", font=('times', 16, ' bold '))\n",
    "takeImg.place(x=30, y=350,relwidth=0.89)\n",
    "\n",
    "trainImg = tkinter.Button(frame1, text=\"Save Profile\", command=psw, fg=\"White\", bg=\"#053745\", width=34, height=1, activebackground = \"white\", font=('times', 16, ' bold '))\n",
    "trainImg.place(x=30, y=430,relwidth=0.89)\n",
    "\n",
    "trackImg = tkinter.Button(frame2, text=\"Take Attendance\", command=TrackImages, fg=\"White\", bg=\"#053745\", height=1, activebackground = \"white\" ,font=('times', 16, ' bold '))\n",
    "trackImg.place(x=30,y=60,relwidth=0.89)\n",
    "\n",
    "quitWindow = tkinter.Button(frame2, text=\"Quit\", command=window.destroy, fg=\"White\", bg=\"#053745\", width=35, height=1, activebackground = \"white\", font=('times', 16, ' bold '))\n",
    "quitWindow.place(x=30, y=450,relwidth=0.89)"
   ]
  },
  {
   "cell_type": "code",
   "execution_count": 31,
   "id": "ab74eaee",
   "metadata": {},
   "outputs": [
    {
     "data": {
      "text/plain": [
       "{}"
      ]
     },
     "execution_count": 31,
     "metadata": {},
     "output_type": "execute_result"
    }
   ],
   "source": [
    "#Attandance table----------------------------\n",
    "style = ttk.Style()\n",
    "style.configure(\"mystyle.Treeview\", highlightthickness=0, bd=0, font=('Calibri', 11)) # Modify the font of the body\n",
    "style.configure(\"mystyle.Treeview.Heading\",font=('times', 13,'bold')) # Modify the font of the headings\n",
    "style.layout(\"mystyle.Treeview\", [('mystyle.Treeview.treearea', {'sticky': 'nswe'})]) # Remove the borders\n",
    "tb= ttk.Treeview(frame2,height =13,columns = ('name','date','time'),style=\"mystyle.Treeview\")\n",
    "tb.column('#0',width=82)\n",
    "tb.column('name',width=130)\n",
    "tb.column('date',width=133)\n",
    "tb.column('time',width=133)\n",
    "tb.grid(row=2,column=0,padx=(0,0),pady=(150,0),columnspan=4)\n",
    "tb.heading('#0',text ='ID')\n",
    "tb.heading('name',text ='NAME')\n",
    "tb.heading('date',text ='DATE')\n",
    "tb.heading('time',text ='TIME')"
   ]
  },
  {
   "cell_type": "code",
   "execution_count": 32,
   "id": "5e05188b",
   "metadata": {},
   "outputs": [],
   "source": [
    "#SCROLLBAR--------------------------------------------------\n",
    "\n",
    "scroll=ttk.Scrollbar(frame2,orient='vertical',command=tb.yview)\n",
    "scroll.grid(row=2,column=4,padx=(0,100),pady=(150,0),sticky='ns')\n",
    "tb.configure(yscrollcommand=scroll.set)\n"
   ]
  },
  {
   "cell_type": "code",
   "execution_count": null,
   "id": "a22c9e9f",
   "metadata": {},
   "outputs": [],
   "source": [
    "#closing lines------------------------------------------------\n",
    "window.protocol(\"WM_DELETE_WINDOW\", on_closing)\n",
    "window.mainloop()"
   ]
  },
  {
   "cell_type": "code",
   "execution_count": null,
   "id": "77c0f3fe",
   "metadata": {},
   "outputs": [],
   "source": []
  },
  {
   "cell_type": "code",
   "execution_count": null,
   "id": "34a6841b",
   "metadata": {},
   "outputs": [],
   "source": []
  },
  {
   "cell_type": "code",
   "execution_count": null,
   "id": "db7ce2e8",
   "metadata": {},
   "outputs": [],
   "source": []
  }
 ],
 "metadata": {
  "kernelspec": {
   "display_name": "Python 3 (ipykernel)",
   "language": "python",
   "name": "python3"
  },
  "language_info": {
   "codemirror_mode": {
    "name": "ipython",
    "version": 3
   },
   "file_extension": ".py",
   "mimetype": "text/x-python",
   "name": "python",
   "nbconvert_exporter": "python",
   "pygments_lexer": "ipython3",
   "version": "3.9.13"
  }
 },
 "nbformat": 4,
 "nbformat_minor": 5
}
